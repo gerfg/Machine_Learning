{
 "cells": [
  {
   "cell_type": "markdown",
   "metadata": {},
   "source": [
    "# 1.The Machine Learning Landscape"
   ]
  },
  {
   "cell_type": "markdown",
   "metadata": {},
   "source": [
    "- **Why Use Machine Learning?**\n",
    "    \n",
    "    - If you create a algorithm with a long list of complex rules, this make your program pretty hard to maintain\n",
    "    \n",
    "    - Types of ML systems? You can use only one of this types or combine them.\n",
    "        - Trained or not with humam supervision\n",
    "        - Learning incrementally on the fly\n",
    "        - Compare data points to known data points, or instead by detecting patterns in the training data and creating a predictive model (instance-based versus model-based learning)\n",
    "    \n",
    "    - **Supervised/Unsupervised Learning**:\n",
    "        - The systems can be classified according to the amount and type of supervision they get during training. Categories: **Supervised, Unsupervised, Semisupervised and Reinforcement Learning.**\n",
    "        - Supervised: data labelled\n",
    "        - Unsupervised: data unlabeled, most important algorithms:\n",
    "            - Clustering: K-Means, DBSCAN, Hierarchical Cluster Analysis (HCA), \n",
    "            - Anomaly detection and novelty detection: One-class SVM, Isolation Forest\n",
    "            - Visualization and dimensionality reduction: Principal Component Analysis (PCA), Kernel PCA, Locally Linear Embedding (LLE), t-Distributed Stochastic Neighbor Embedding (t-SNE)\n",
    "            - Association rule learning\n",
    "    \n",
    "    - **Main Challenges of Machine Learning**\n",
    "        - Insufficient Quantiy od Training data\n",
    "        - Nonrepresentative Training Data\n",
    "        - Poor-Quality Data: full of errors, outliers and noise\n",
    "        - Irrelevant Features: (garbage in, garbage out) To avoid, do one of this tecniques: Feature selection, Feature extraction and Creating new features\n",
    "        - Overfitting the Training Data\n",
    "        - Underfitting the Training Data\n",
    "    - **Testing and Validating**: If the Training Error is low but the generalization error (test) is high, it means that your model is **overfitting** the training data.\n",
    "        - Hyperparameter Tuninig and Model selection\n",
    "            - Evaluating a model is simple enough: just use a test set. How to choose a value of Hyperparameter? example: regularization Hyperparameter?\n",
    "        - Data Mismatch\n",
    "    - **No Free Lunch Theorem**: A model is a simplified version of the observations. To decide what data discard and what data to keep, you must make assumptions. For example, a linear model makes the assumption that the data is fundamentally linear and that the distance between the instances and the straight line is just a noise, wich can safely ignored. If you make absolutely no assumption about the data, the there is no reason to prefer one model over any other. This is called the *No Free Lunch* (NFL) theorem. For some datasets the best model is a linear model, while for other datasets it is a neural network. The only way to know for sure which model is best is to evaluate them all. Since this is note possible, in practice you make same reasonable assumptions about the data and evaluate only a few reasonable models. For example, for simple tasks you may to evaluate linear models with various levels of regularization, and for a complex problem you may evaluate various neural networks."
   ]
  },
  {
   "cell_type": "markdown",
   "metadata": {},
   "source": [
    "## Exercises:"
   ]
  },
  {
   "cell_type": "markdown",
   "metadata": {},
   "source": [
    "### 1.How would you define Machine Learning?\n",
    "\n",
    "Is about building systems that can learn from data. Learning means getting better at some task, given some performance measure."
   ]
  },
  {
   "cell_type": "markdown",
   "metadata": {},
   "source": [
    "### 2.Can you name four type of problems where it shines?\n",
    "\n",
    "Is great for complex problems for which we have no algorithmic solution, to replace long lists of hand-tuned rules, to build systems that adapt to fluctuating environments, and finally to help humans learn"
   ]
  },
  {
   "cell_type": "markdown",
   "metadata": {},
   "source": [
    "### 3.What is a labeled training set?\n",
    "\n",
    "It's a training set with a label or classifications for each row (os some of rows). For example: to a spam filter a labeled training set has multiples emails and a label telling if this email is a spam or not."
   ]
  },
  {
   "cell_type": "markdown",
   "metadata": {},
   "source": [
    "### 4.What are the two most common supervised tasks?\n",
    "Regression and classification"
   ]
  },
  {
   "cell_type": "markdown",
   "metadata": {},
   "source": [
    "### 5.Can you name four common unsupervised tasks?\n",
    "\n",
    "Clustering, Anomaly detection and novelty detection,  Visualization and dimensionality reduction and association rule learning."
   ]
  },
  {
   "cell_type": "markdown",
   "metadata": {},
   "source": [
    "### 6. What type of Machine Learning algorithm would you use to allow a robot to walk in various unknown terrains?\n",
    "\n",
    "Reinforcement Learning, the robot will learn with the decisions made based on the environment."
   ]
  },
  {
   "cell_type": "markdown",
   "metadata": {},
   "source": [
    "### 7. What type of algorithm would you use to segment your customers into multiple groups?\n",
    "\n",
    "If your data don't have labels, you might use the clustering algorithm (unsupervised learning) to agroup your customers in clusters with similarity, but, if your data its a labeled dataset you can use a classification algorithm and classify your customers into these groups."
   ]
  },
  {
   "cell_type": "markdown",
   "metadata": {},
   "source": [
    "### 8. Would you frame the problem of spam detection as a supervised learning problem or an unsupervised learning problem?\n",
    "\n",
    "It's a supervised learning, we teach our model to know if that email its a spam or not with give him examples"
   ]
  },
  {
   "cell_type": "markdown",
   "metadata": {},
   "source": [
    "### 9. What is an online learning system?\n",
    "\n",
    "An online learning system can lear incrementally, as opposed to a batch learning system. This makes it capable of adapting rapidly to both changing data and autonomous systems, and of training on very large quantities of data."
   ]
  },
  {
   "cell_type": "markdown",
   "metadata": {},
   "source": [
    "### 10. What is out-of-core learning?\n",
    "\n",
    "If you have a vast quantitis of data, the out-of-core learning algorithm chops the data into mini-batches and uses online learning to learn from these mini-batches."
   ]
  },
  {
   "cell_type": "markdown",
   "metadata": {},
   "source": [
    "### 11. What type of learning algorithm relies on a similarity measure to make predictions?\n",
    "\n",
    "An instance-based learning system, learns the training data by heart; when given a new instance, it uses a similarity measure to find the most similar learned instances and uses to make predictions."
   ]
  },
  {
   "cell_type": "markdown",
   "metadata": {},
   "source": [
    "### 12. What is the difference between a model parameter and a learning algorithm’s hyperparameter?\n",
    "\n",
    "A model parameter chang what it will predict given a new instance, and a hyperparameter is a parameter ofthe learning algorithm no of the model (regularization lambda)"
   ]
  },
  {
   "cell_type": "markdown",
   "metadata": {},
   "source": [
    "### 13. What do model-based learning algorithms search for? What is the most common strategy they use to succeed? How do they make predictions?\n",
    "\n"
   ]
  },
  {
   "cell_type": "markdown",
   "metadata": {},
   "source": [
    "### 14. Can you name four of the main challenges in Machine Learning?\n",
    "\n",
    "Overfitting, Underfitting, Insufficient quantity of training data and Nonrepresentative training data."
   ]
  },
  {
   "cell_type": "markdown",
   "metadata": {},
   "source": [
    "### 15. If your model performs great on the training data but generalizes poorly to new instances, what is happening? Can you name three possible solutions?"
   ]
  },
  {
   "cell_type": "markdown",
   "metadata": {},
   "source": [
    "### 16. What is a test set, and why would you want to use it?"
   ]
  },
  {
   "cell_type": "markdown",
   "metadata": {},
   "source": [
    "### 17. What is the purpose of a validation set?"
   ]
  },
  {
   "cell_type": "markdown",
   "metadata": {},
   "source": [
    "### 18. What is the train-dev set, when do you need it, and how do you use it?"
   ]
  },
  {
   "cell_type": "markdown",
   "metadata": {},
   "source": [
    "### 19. What can go wrong if you tune hyperparameters using the test set?"
   ]
  }
 ],
 "metadata": {
  "language_info": {
   "codemirror_mode": {
    "name": "ipython",
    "version": 3
   },
   "file_extension": ".py",
   "mimetype": "text/x-python",
   "name": "python",
   "nbconvert_exporter": "python",
   "pygments_lexer": "ipython3",
   "version": "3.7.6-final"
  },
  "orig_nbformat": 2,
  "kernelspec": {
   "name": "python37664bitbaseconda1045c210760f452dabbfd0c15f151bd0",
   "display_name": "Python 3.7.6 64-bit ('base': conda)"
  }
 },
 "nbformat": 4,
 "nbformat_minor": 2
}